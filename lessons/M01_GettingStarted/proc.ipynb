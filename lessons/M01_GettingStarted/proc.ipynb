{
 "cells": [
  {
   "cell_type": "code",
   "execution_count": null,
   "id": "531ada01-a08c-4454-bd39-600ceebb86e3",
   "metadata": {},
   "outputs": [],
   "source": [
    "import glob\n",
    "\n",
    "files = glob.glob(\"./hello/*_*.txt\")\n",
    "\n",
    "n = 0\n",
    "for file in files:\n",
    "    sid = file.split(\"/\")[2].split(\"_\")[0]\n",
    "    n += 1\n",
    "    line = open(file, 'r').read().strip()\n",
    "    print(str(n).zfill(2), sid, line, sep=' | ')\n",
    "    # print(\"-\" * 80)"
   ]
  }
 ],
 "metadata": {
  "kernelspec": {
   "display_name": "eta",
   "language": "python",
   "name": "eta"
  },
  "language_info": {
   "codemirror_mode": {
    "name": "ipython",
    "version": 3
   },
   "file_extension": ".py",
   "mimetype": "text/x-python",
   "name": "python",
   "nbconvert_exporter": "python",
   "pygments_lexer": "ipython3",
   "version": "3.8.3"
  },
  "widgets": {
   "application/vnd.jupyter.widget-state+json": {
    "state": {},
    "version_major": 2,
    "version_minor": 0
   }
  }
 },
 "nbformat": 4,
 "nbformat_minor": 5
}
